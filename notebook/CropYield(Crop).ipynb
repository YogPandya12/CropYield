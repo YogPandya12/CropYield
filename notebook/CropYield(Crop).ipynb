{
 "cells": [
  {
   "cell_type": "code",
   "execution_count": 3,
   "metadata": {
    "id": "BvMWv0MxA8pP"
   },
   "outputs": [],
   "source": [
    "import pandas as pd\n",
    "import numpy as np\n",
    "import seaborn as sns\n",
    "import matplotlib.pyplot as plt\n",
    "plt.style.use(\"ggplot\")"
   ]
  },
  {
   "cell_type": "markdown",
   "metadata": {
    "id": "nxC-ZbFpHfSH"
   },
   "source": []
  },
  {
   "cell_type": "code",
   "execution_count": 7,
   "metadata": {
    "id": "hwcokaBdBgv0"
   },
   "outputs": [],
   "source": [
    "df=pd.read_csv(\"D:\\Code\\CropYield\\data\\crop_data.csv\")"
   ]
  },
  {
   "cell_type": "code",
   "execution_count": 8,
   "metadata": {
    "colab": {
     "base_uri": "https://localhost:8080/",
     "height": 206
    },
    "id": "Lt8VxMZUBiYU",
    "outputId": "662a4f1f-495d-4b6b-ede3-408bd49f6220"
   },
   "outputs": [
    {
     "data": {
      "text/html": [
       "<div>\n",
       "<style scoped>\n",
       "    .dataframe tbody tr th:only-of-type {\n",
       "        vertical-align: middle;\n",
       "    }\n",
       "\n",
       "    .dataframe tbody tr th {\n",
       "        vertical-align: top;\n",
       "    }\n",
       "\n",
       "    .dataframe thead th {\n",
       "        text-align: right;\n",
       "    }\n",
       "</style>\n",
       "<table border=\"1\" class=\"dataframe\">\n",
       "  <thead>\n",
       "    <tr style=\"text-align: right;\">\n",
       "      <th></th>\n",
       "      <th>STATE</th>\n",
       "      <th>SOIL_TYPE</th>\n",
       "      <th>N_SOIL</th>\n",
       "      <th>P_SOIL</th>\n",
       "      <th>K_SOIL</th>\n",
       "      <th>TEMPERATURE</th>\n",
       "      <th>HUMIDITY</th>\n",
       "      <th>ph</th>\n",
       "      <th>RAINFALL</th>\n",
       "      <th>CROP_PRICE</th>\n",
       "      <th>CROP</th>\n",
       "    </tr>\n",
       "  </thead>\n",
       "  <tbody>\n",
       "    <tr>\n",
       "      <th>0</th>\n",
       "      <td>Andaman and Nicobar</td>\n",
       "      <td>Sandy soil</td>\n",
       "      <td>90</td>\n",
       "      <td>42</td>\n",
       "      <td>43</td>\n",
       "      <td>20.879744</td>\n",
       "      <td>82.002744</td>\n",
       "      <td>6.502985</td>\n",
       "      <td>202.935536</td>\n",
       "      <td>7000</td>\n",
       "      <td>Amaranthus</td>\n",
       "    </tr>\n",
       "    <tr>\n",
       "      <th>1</th>\n",
       "      <td>Andaman and Nicobar</td>\n",
       "      <td>Sandy soil</td>\n",
       "      <td>85</td>\n",
       "      <td>58</td>\n",
       "      <td>41</td>\n",
       "      <td>21.770462</td>\n",
       "      <td>80.319644</td>\n",
       "      <td>7.038096</td>\n",
       "      <td>226.655537</td>\n",
       "      <td>5000</td>\n",
       "      <td>Green Banana</td>\n",
       "    </tr>\n",
       "    <tr>\n",
       "      <th>2</th>\n",
       "      <td>Andaman and Nicobar</td>\n",
       "      <td>Sandy soil</td>\n",
       "      <td>60</td>\n",
       "      <td>55</td>\n",
       "      <td>44</td>\n",
       "      <td>23.004459</td>\n",
       "      <td>82.320763</td>\n",
       "      <td>7.840207</td>\n",
       "      <td>263.964248</td>\n",
       "      <td>7000</td>\n",
       "      <td>Ladies Finger</td>\n",
       "    </tr>\n",
       "    <tr>\n",
       "      <th>3</th>\n",
       "      <td>Andaman and Nicobar</td>\n",
       "      <td>Sandy soil</td>\n",
       "      <td>74</td>\n",
       "      <td>35</td>\n",
       "      <td>40</td>\n",
       "      <td>26.491096</td>\n",
       "      <td>80.158363</td>\n",
       "      <td>6.980401</td>\n",
       "      <td>242.864034</td>\n",
       "      <td>7000</td>\n",
       "      <td>Bitter Gourd</td>\n",
       "    </tr>\n",
       "    <tr>\n",
       "      <th>4</th>\n",
       "      <td>Andaman and Nicobar</td>\n",
       "      <td>Sandy soil</td>\n",
       "      <td>78</td>\n",
       "      <td>42</td>\n",
       "      <td>42</td>\n",
       "      <td>20.130175</td>\n",
       "      <td>81.604873</td>\n",
       "      <td>7.628473</td>\n",
       "      <td>262.717340</td>\n",
       "      <td>120000</td>\n",
       "      <td>Black pepper</td>\n",
       "    </tr>\n",
       "  </tbody>\n",
       "</table>\n",
       "</div>"
      ],
      "text/plain": [
       "                 STATE   SOIL_TYPE  N_SOIL  P_SOIL  K_SOIL  TEMPERATURE  \\\n",
       "0  Andaman and Nicobar  Sandy soil      90      42      43    20.879744   \n",
       "1  Andaman and Nicobar  Sandy soil      85      58      41    21.770462   \n",
       "2  Andaman and Nicobar  Sandy soil      60      55      44    23.004459   \n",
       "3  Andaman and Nicobar  Sandy soil      74      35      40    26.491096   \n",
       "4  Andaman and Nicobar  Sandy soil      78      42      42    20.130175   \n",
       "\n",
       "    HUMIDITY        ph    RAINFALL  CROP_PRICE           CROP  \n",
       "0  82.002744  6.502985  202.935536        7000     Amaranthus  \n",
       "1  80.319644  7.038096  226.655537        5000   Green Banana  \n",
       "2  82.320763  7.840207  263.964248        7000  Ladies Finger  \n",
       "3  80.158363  6.980401  242.864034        7000   Bitter Gourd  \n",
       "4  81.604873  7.628473  262.717340      120000   Black pepper  "
      ]
     },
     "execution_count": 8,
     "metadata": {},
     "output_type": "execute_result"
    }
   ],
   "source": [
    "df.head()"
   ]
  },
  {
   "cell_type": "code",
   "execution_count": 9,
   "metadata": {
    "colab": {
     "base_uri": "https://localhost:8080/"
    },
    "id": "YMNVl4HSBr8K",
    "outputId": "615277cc-4440-4763-b33c-aac5e8bf7045"
   },
   "outputs": [
    {
     "name": "stdout",
     "output_type": "stream",
     "text": [
      "<class 'pandas.core.frame.DataFrame'>\n",
      "RangeIndex: 2200 entries, 0 to 2199\n",
      "Data columns (total 11 columns):\n",
      " #   Column       Non-Null Count  Dtype  \n",
      "---  ------       --------------  -----  \n",
      " 0   STATE        2200 non-null   object \n",
      " 1   SOIL_TYPE    2200 non-null   object \n",
      " 2   N_SOIL       2200 non-null   int64  \n",
      " 3   P_SOIL       2200 non-null   int64  \n",
      " 4   K_SOIL       2200 non-null   int64  \n",
      " 5   TEMPERATURE  2200 non-null   float64\n",
      " 6   HUMIDITY     2200 non-null   float64\n",
      " 7   ph           2200 non-null   float64\n",
      " 8   RAINFALL     2200 non-null   float64\n",
      " 9   CROP_PRICE   2200 non-null   int64  \n",
      " 10  CROP         2200 non-null   object \n",
      "dtypes: float64(4), int64(4), object(3)\n",
      "memory usage: 189.2+ KB\n"
     ]
    }
   ],
   "source": [
    "df.info()"
   ]
  },
  {
   "cell_type": "code",
   "execution_count": 10,
   "metadata": {
    "colab": {
     "base_uri": "https://localhost:8080/"
    },
    "id": "hLt_Ak4vBvU7",
    "outputId": "5f3ec1b4-36f8-41c2-edea-2ce4a106a8b6"
   },
   "outputs": [
    {
     "data": {
      "text/plain": [
       "Index(['STATE', 'SOIL_TYPE', 'N_SOIL', 'P_SOIL', 'K_SOIL', 'TEMPERATURE',\n",
       "       'HUMIDITY', 'ph', 'RAINFALL', 'CROP_PRICE', 'CROP'],\n",
       "      dtype='object')"
      ]
     },
     "execution_count": 10,
     "metadata": {},
     "output_type": "execute_result"
    }
   ],
   "source": [
    "df.columns"
   ]
  },
  {
   "cell_type": "code",
   "execution_count": 11,
   "metadata": {
    "id": "TUrqUVnLByYj"
   },
   "outputs": [],
   "source": [
    "df=df.drop('CROP_PRICE',axis=1)"
   ]
  },
  {
   "cell_type": "code",
   "execution_count": 12,
   "metadata": {
    "colab": {
     "base_uri": "https://localhost:8080/"
    },
    "id": "9BYkstFvCSR1",
    "outputId": "7153fefb-5a0e-4db3-955a-2a1491bf0851"
   },
   "outputs": [
    {
     "name": "stdout",
     "output_type": "stream",
     "text": [
      "Num of numerical features: 7\n",
      "Num of categorical features: 3\n",
      "Num of discreate featuresL: 0\n",
      "Num of continuous featuresL: 7\n"
     ]
    }
   ],
   "source": [
    "## getting all different of features\n",
    "num_features= [feature for feature in df.columns if df[feature].dtype!='O']\n",
    "print('Num of numerical features:',len(num_features))\n",
    "cat_features=[feature for feature in df.columns if df[feature].dtype=='O']\n",
    "print('Num of categorical features:',len(cat_features))\n",
    "discreate_features=[feature for feature in num_features if len(df[feature].unique())<=25 ]\n",
    "print('Num of discreate featuresL:',len(discreate_features))\n",
    "continuous_features=[feature for feature in num_features if feature not in discreate_features]\n",
    "print('Num of continuous featuresL:',len(continuous_features))"
   ]
  },
  {
   "cell_type": "code",
   "execution_count": null,
   "metadata": {},
   "outputs": [],
   "source": []
  },
  {
   "cell_type": "code",
   "execution_count": 13,
   "metadata": {
    "id": "_9qOweiWCTha"
   },
   "outputs": [],
   "source": [
    "from sklearn.model_selection import train_test_split\n",
    "x=df.drop(['CROP'],axis=1)\n",
    "y=df['CROP']"
   ]
  },
  {
   "cell_type": "code",
   "execution_count": null,
   "metadata": {
    "id": "2Zsw74q6L6BV"
   },
   "outputs": [],
   "source": []
  },
  {
   "cell_type": "code",
   "execution_count": 14,
   "metadata": {
    "colab": {
     "base_uri": "https://localhost:8080/"
    },
    "id": "-jsnn9f_CUt-",
    "outputId": "30cccfe6-1ae0-47a3-b7b1-b44f2ca32ed3"
   },
   "outputs": [
    {
     "data": {
      "text/plain": [
       "array(['Amaranthus', 'Green Banana', 'Ladies Finger', 'Bitter Gourd',\n",
       "       'Black pepper', 'Bottle Gourd', 'Brinjal', 'Cabbage', 'Carrot',\n",
       "       'Cauliflower', 'Cluster beans', 'Coconut', 'Colacasia', 'Onion',\n",
       "       'Potato', 'Tomato', 'Bengal Gram', 'Jowar', 'Paddy', 'Lentil',\n",
       "       'Rice', 'Cucumber', 'Field Pea', 'French Beans', 'Green Chilli',\n",
       "       'Knool Khol', 'Pumpkin', 'Raddish', 'Black Gram', 'Green Gram',\n",
       "       'Jute', 'Maida Atta', 'Mustard', 'Wheat Atta', 'Garlic',\n",
       "       'Masur Dal', 'Ridge Gourd', 'Arecanut', 'Red Gram', 'Maize',\n",
       "       'Dry Chillies', 'Groundnut', 'Capsicum', 'Guar', 'Lemon', 'Bajra',\n",
       "       'Castor Seed', 'Coriander', 'Cowpea', 'Drumstick', 'Elephat Yam',\n",
       "       'Ginger', 'Seam', 'Methi Leaves', 'Green Onion', 'Peas cod',\n",
       "       'Pigeon Pea', 'Sponge Gourd', 'Surat Beans', 'Sweet Potato',\n",
       "       'Tinda', 'Cluster Beans', 'Cotton', 'Wheat', 'Chholia',\n",
       "       'Little Gourd', 'Round gourd', 'Leafy Vegetable', 'Mint', 'Papaya',\n",
       "       'Spinach', 'Parval', 'Banana', 'Zizyphus', 'Grapes', 'Kinnow',\n",
       "       'Peas', 'Apple', 'Orange', 'Pomegranate', 'Sapota', 'Mushrooms',\n",
       "       'Sweet Lime', 'Pineapple', 'Guava', 'Turnip', 'Squash', 'Beans',\n",
       "       'Beetroot', 'Chilly Capsicum', 'Green Avare', 'Seemebadnekai',\n",
       "       'Snakeguard', 'Suvarna Gadde', 'Water Melon', 'Copra',\n",
       "       'Amphophalus', 'Ash Gourd', 'Coconut Oil', 'Rubber', 'Cashewnuts',\n",
       "       'Pepper garbled', 'Coconut Seed', 'Long Melon', 'Tapioca',\n",
       "       'Turmeric', 'Mango', 'Amla', 'Duster Beans', 'Soyabean', 'Linseed',\n",
       "       'Niger Seed', 'Moong Dal', 'Lime', 'Musk Melon', 'Pear', 'Rajgir',\n",
       "       'Sweet Pumpkin', 'Tender Coconut', 'Chana Dal', 'Betal Leaves',\n",
       "       'Broken Rice', 'Jaggery', 'Sugar', 'Sesamum', 'Moath Dal',\n",
       "       'Corriander seed', 'Ground Nut Seed', 'Taramira', 'Tobacco',\n",
       "       'Tamarind Fruit', 'Horse Gram', 'Ragi', 'Cumbu', 'Gingelly Oil',\n",
       "       'Varagu', 'Hybrid Cumbu', 'Karamani', 'Thinai', 'Wood', 'Barley',\n",
       "       'Fish', 'Green Peas', 'Tur Dal', 'Urd Dal', 'Mustard Oil', 'Ghee',\n",
       "       'White Pumpkin', 'Plum'], dtype=object)"
      ]
     },
     "execution_count": 14,
     "metadata": {},
     "output_type": "execute_result"
    }
   ],
   "source": [
    "y.unique()"
   ]
  },
  {
   "cell_type": "code",
   "execution_count": 15,
   "metadata": {
    "colab": {
     "base_uri": "https://localhost:8080/"
    },
    "id": "BHFb7FEVCVrF",
    "outputId": "e678d69e-dee5-4d5a-a1a3-76afc31c81ec"
   },
   "outputs": [
    {
     "name": "stdout",
     "output_type": "stream",
     "text": [
      "Label Mapping: {'Amaranthus': 0, 'Amla': 1, 'Amphophalus': 2, 'Apple': 3, 'Arecanut': 4, 'Ash Gourd': 5, 'Bajra': 6, 'Banana': 7, 'Barley': 8, 'Beans': 9, 'Beetroot': 10, 'Bengal Gram': 11, 'Betal Leaves': 12, 'Bitter Gourd': 13, 'Black Gram': 14, 'Black pepper': 15, 'Bottle Gourd': 16, 'Brinjal': 17, 'Broken Rice': 18, 'Cabbage': 19, 'Capsicum': 20, 'Carrot': 21, 'Cashewnuts': 22, 'Castor Seed': 23, 'Cauliflower': 24, 'Chana Dal': 25, 'Chholia': 26, 'Chilly Capsicum': 27, 'Cluster Beans': 28, 'Cluster beans': 29, 'Coconut': 30, 'Coconut Oil': 31, 'Coconut Seed': 32, 'Colacasia': 33, 'Copra': 34, 'Coriander': 35, 'Corriander seed': 36, 'Cotton': 37, 'Cowpea': 38, 'Cucumber': 39, 'Cumbu': 40, 'Drumstick': 41, 'Dry Chillies': 42, 'Duster Beans': 43, 'Elephat Yam': 44, 'Field Pea': 45, 'Fish': 46, 'French Beans': 47, 'Garlic': 48, 'Ghee': 49, 'Gingelly Oil': 50, 'Ginger': 51, 'Grapes': 52, 'Green Avare': 53, 'Green Banana': 54, 'Green Chilli': 55, 'Green Gram': 56, 'Green Onion': 57, 'Green Peas': 58, 'Ground Nut Seed': 59, 'Groundnut': 60, 'Guar': 61, 'Guava': 62, 'Horse Gram': 63, 'Hybrid Cumbu': 64, 'Jaggery': 65, 'Jowar': 66, 'Jute': 67, 'Karamani': 68, 'Kinnow': 69, 'Knool Khol': 70, 'Ladies Finger': 71, 'Leafy Vegetable': 72, 'Lemon': 73, 'Lentil': 74, 'Lime': 75, 'Linseed': 76, 'Little Gourd': 77, 'Long Melon': 78, 'Maida Atta': 79, 'Maize': 80, 'Mango': 81, 'Masur Dal': 82, 'Methi Leaves': 83, 'Mint': 84, 'Moath Dal': 85, 'Moong Dal': 86, 'Mushrooms': 87, 'Musk Melon': 88, 'Mustard': 89, 'Mustard Oil': 90, 'Niger Seed': 91, 'Onion': 92, 'Orange': 93, 'Paddy': 94, 'Papaya': 95, 'Parval': 96, 'Pear': 97, 'Peas': 98, 'Peas cod': 99, 'Pepper garbled': 100, 'Pigeon Pea': 101, 'Pineapple': 102, 'Plum': 103, 'Pomegranate': 104, 'Potato': 105, 'Pumpkin': 106, 'Raddish': 107, 'Ragi': 108, 'Rajgir': 109, 'Red Gram': 110, 'Rice': 111, 'Ridge Gourd': 112, 'Round gourd': 113, 'Rubber': 114, 'Sapota': 115, 'Seam': 116, 'Seemebadnekai': 117, 'Sesamum': 118, 'Snakeguard': 119, 'Soyabean': 120, 'Spinach': 121, 'Sponge Gourd': 122, 'Squash': 123, 'Sugar': 124, 'Surat Beans': 125, 'Suvarna Gadde': 126, 'Sweet Lime': 127, 'Sweet Potato': 128, 'Sweet Pumpkin': 129, 'Tamarind Fruit': 130, 'Tapioca': 131, 'Taramira': 132, 'Tender Coconut': 133, 'Thinai': 134, 'Tinda': 135, 'Tobacco': 136, 'Tomato': 137, 'Tur Dal': 138, 'Turmeric': 139, 'Turnip': 140, 'Urd Dal': 141, 'Varagu': 142, 'Water Melon': 143, 'Wheat': 144, 'Wheat Atta': 145, 'White Pumpkin': 146, 'Wood': 147, 'Zizyphus': 148}\n",
      "Encoded Labels: [  0  54  71 ... 105 106 137]\n"
     ]
    }
   ],
   "source": [
    "from sklearn.preprocessing import LabelEncoder\n",
    "label_encoder = LabelEncoder()\n",
    "y_encoded = label_encoder.fit_transform(y)\n",
    "# If you want to see the mapping\n",
    "label_mapping = dict(zip(label_encoder.classes_, range(len(label_encoder.classes_))))\n",
    "print(\"Label Mapping:\", label_mapping)\n",
    "\n",
    "# Display the encoded labels\n",
    "print(\"Encoded Labels:\", y_encoded)"
   ]
  },
  {
   "cell_type": "code",
   "execution_count": null,
   "metadata": {
    "id": "WjAHABwuoHsN"
   },
   "outputs": [],
   "source": []
  },
  {
   "cell_type": "code",
   "execution_count": 16,
   "metadata": {
    "colab": {
     "base_uri": "https://localhost:8080/"
    },
    "id": "nTrB77BACXgV",
    "outputId": "ab5adb6c-d3c8-424a-de92-d7292980ae53"
   },
   "outputs": [
    {
     "name": "stdout",
     "output_type": "stream",
     "text": [
      "<class 'pandas.core.frame.DataFrame'>\n",
      "RangeIndex: 2200 entries, 0 to 2199\n",
      "Data columns (total 9 columns):\n",
      " #   Column       Non-Null Count  Dtype  \n",
      "---  ------       --------------  -----  \n",
      " 0   STATE        2200 non-null   object \n",
      " 1   SOIL_TYPE    2200 non-null   object \n",
      " 2   N_SOIL       2200 non-null   int64  \n",
      " 3   P_SOIL       2200 non-null   int64  \n",
      " 4   K_SOIL       2200 non-null   int64  \n",
      " 5   TEMPERATURE  2200 non-null   float64\n",
      " 6   HUMIDITY     2200 non-null   float64\n",
      " 7   ph           2200 non-null   float64\n",
      " 8   RAINFALL     2200 non-null   float64\n",
      "dtypes: float64(4), int64(3), object(2)\n",
      "memory usage: 154.8+ KB\n"
     ]
    }
   ],
   "source": [
    "x.info()"
   ]
  },
  {
   "cell_type": "code",
   "execution_count": 17,
   "metadata": {
    "colab": {
     "base_uri": "https://localhost:8080/"
    },
    "id": "WidZDz3gjq7_",
    "outputId": "cb5be48b-80a0-486d-e023-8b4890007bbe"
   },
   "outputs": [
    {
     "data": {
      "text/plain": [
       "(26,)"
      ]
     },
     "execution_count": 17,
     "metadata": {},
     "output_type": "execute_result"
    }
   ],
   "source": [
    "x['STATE'].unique().shape"
   ]
  },
  {
   "cell_type": "code",
   "execution_count": 18,
   "metadata": {
    "id": "ToxqGTydCcMB"
   },
   "outputs": [],
   "source": [
    "## train test split\n",
    "from sklearn.model_selection import train_test_split\n",
    "x_train,x_test,y_train,y_test=train_test_split(x,y_encoded,test_size=0.25,random_state=42)"
   ]
  },
  {
   "cell_type": "code",
   "execution_count": null,
   "metadata": {
    "id": "hRyXMPf3nbXE"
   },
   "outputs": [],
   "source": []
  },
  {
   "cell_type": "code",
   "execution_count": 19,
   "metadata": {
    "id": "1Iiw6nR-Cdnm"
   },
   "outputs": [],
   "source": [
    "# create column transformer with 3 types of transformer\n",
    "cat_features=['STATE', 'SOIL_TYPE']\n",
    "num_features=x.select_dtypes(exclude='object').columns\n",
    "\n",
    "from sklearn.preprocessing import OrdinalEncoder, StandardScaler\n",
    "from sklearn.compose import ColumnTransformer\n",
    "\n",
    "numeric_transformer=StandardScaler()\n",
    "ord_transformer=OrdinalEncoder()\n",
    "\n",
    "preprocessor=ColumnTransformer(\n",
    "    [\n",
    "        ('OrdinalEncoder',ord_transformer,cat_features),\n",
    "        ('StandardScaler',numeric_transformer,num_features)\n",
    "    ],\n",
    "    remainder='passthrough'\n",
    ")"
   ]
  },
  {
   "cell_type": "code",
   "execution_count": 20,
   "metadata": {
    "id": "Mo1n5n3XCesv"
   },
   "outputs": [],
   "source": [
    "x_train=preprocessor.fit_transform(x_train)\n",
    "x_test=preprocessor.transform(x_test)"
   ]
  },
  {
   "cell_type": "code",
   "execution_count": 378,
   "metadata": {
    "colab": {
     "base_uri": "https://localhost:8080/",
     "height": 423
    },
    "id": "DOV5w3gfDK82",
    "outputId": "406e870a-045a-44cd-d213-10b1f3b6374e"
   },
   "outputs": [
    {
     "data": {
      "text/html": [
       "<div>\n",
       "<style scoped>\n",
       "    .dataframe tbody tr th:only-of-type {\n",
       "        vertical-align: middle;\n",
       "    }\n",
       "\n",
       "    .dataframe tbody tr th {\n",
       "        vertical-align: top;\n",
       "    }\n",
       "\n",
       "    .dataframe thead th {\n",
       "        text-align: right;\n",
       "    }\n",
       "</style>\n",
       "<table border=\"1\" class=\"dataframe\">\n",
       "  <thead>\n",
       "    <tr style=\"text-align: right;\">\n",
       "      <th></th>\n",
       "      <th>0</th>\n",
       "      <th>1</th>\n",
       "      <th>2</th>\n",
       "      <th>3</th>\n",
       "      <th>4</th>\n",
       "      <th>5</th>\n",
       "      <th>6</th>\n",
       "      <th>7</th>\n",
       "      <th>8</th>\n",
       "    </tr>\n",
       "  </thead>\n",
       "  <tbody>\n",
       "    <tr>\n",
       "      <th>0</th>\n",
       "      <td>10.0</td>\n",
       "      <td>12.0</td>\n",
       "      <td>-0.774026</td>\n",
       "      <td>-0.522604</td>\n",
       "      <td>-0.628725</td>\n",
       "      <td>1.006505</td>\n",
       "      <td>-0.951257</td>\n",
       "      <td>2.199826</td>\n",
       "      <td>-0.686013</td>\n",
       "    </tr>\n",
       "    <tr>\n",
       "      <th>1</th>\n",
       "      <td>13.0</td>\n",
       "      <td>6.0</td>\n",
       "      <td>-0.881257</td>\n",
       "      <td>-0.793767</td>\n",
       "      <td>-0.137943</td>\n",
       "      <td>-0.625780</td>\n",
       "      <td>0.939857</td>\n",
       "      <td>0.902029</td>\n",
       "      <td>0.041819</td>\n",
       "    </tr>\n",
       "    <tr>\n",
       "      <th>2</th>\n",
       "      <td>23.0</td>\n",
       "      <td>0.0</td>\n",
       "      <td>0.271472</td>\n",
       "      <td>0.441530</td>\n",
       "      <td>0.038739</td>\n",
       "      <td>1.926963</td>\n",
       "      <td>0.902907</td>\n",
       "      <td>0.410509</td>\n",
       "      <td>2.542684</td>\n",
       "    </tr>\n",
       "    <tr>\n",
       "      <th>3</th>\n",
       "      <td>10.0</td>\n",
       "      <td>12.0</td>\n",
       "      <td>-0.666796</td>\n",
       "      <td>0.562046</td>\n",
       "      <td>-0.510937</td>\n",
       "      <td>0.646238</td>\n",
       "      <td>-1.551934</td>\n",
       "      <td>-2.314411</td>\n",
       "      <td>-0.195162</td>\n",
       "    </tr>\n",
       "    <tr>\n",
       "      <th>4</th>\n",
       "      <td>23.0</td>\n",
       "      <td>0.0</td>\n",
       "      <td>-1.310179</td>\n",
       "      <td>2.610831</td>\n",
       "      <td>2.924539</td>\n",
       "      <td>-0.559683</td>\n",
       "      <td>0.963231</td>\n",
       "      <td>-1.208615</td>\n",
       "      <td>0.045965</td>\n",
       "    </tr>\n",
       "    <tr>\n",
       "      <th>...</th>\n",
       "      <td>...</td>\n",
       "      <td>...</td>\n",
       "      <td>...</td>\n",
       "      <td>...</td>\n",
       "      <td>...</td>\n",
       "      <td>...</td>\n",
       "      <td>...</td>\n",
       "      <td>...</td>\n",
       "      <td>...</td>\n",
       "    </tr>\n",
       "    <tr>\n",
       "      <th>1645</th>\n",
       "      <td>23.0</td>\n",
       "      <td>0.0</td>\n",
       "      <td>-1.095718</td>\n",
       "      <td>-1.456609</td>\n",
       "      <td>-0.844669</td>\n",
       "      <td>-0.854647</td>\n",
       "      <td>0.896362</td>\n",
       "      <td>1.728524</td>\n",
       "      <td>0.189459</td>\n",
       "    </tr>\n",
       "    <tr>\n",
       "      <th>1646</th>\n",
       "      <td>18.0</td>\n",
       "      <td>4.0</td>\n",
       "      <td>1.531432</td>\n",
       "      <td>1.224888</td>\n",
       "      <td>-0.020155</td>\n",
       "      <td>0.366354</td>\n",
       "      <td>0.586442</td>\n",
       "      <td>-0.111518</td>\n",
       "      <td>-0.211593</td>\n",
       "    </tr>\n",
       "    <tr>\n",
       "      <th>1647</th>\n",
       "      <td>18.0</td>\n",
       "      <td>4.0</td>\n",
       "      <td>-1.068911</td>\n",
       "      <td>-0.522604</td>\n",
       "      <td>-0.334255</td>\n",
       "      <td>0.477907</td>\n",
       "      <td>-0.905357</td>\n",
       "      <td>0.001706</td>\n",
       "      <td>-0.040722</td>\n",
       "    </tr>\n",
       "    <tr>\n",
       "      <th>1648</th>\n",
       "      <td>20.0</td>\n",
       "      <td>7.0</td>\n",
       "      <td>-1.068911</td>\n",
       "      <td>2.128764</td>\n",
       "      <td>3.061958</td>\n",
       "      <td>-2.400887</td>\n",
       "      <td>0.382480</td>\n",
       "      <td>-0.145337</td>\n",
       "      <td>-0.562739</td>\n",
       "    </tr>\n",
       "    <tr>\n",
       "      <th>1649</th>\n",
       "      <td>12.0</td>\n",
       "      <td>11.0</td>\n",
       "      <td>-0.505950</td>\n",
       "      <td>0.742821</td>\n",
       "      <td>-0.510937</td>\n",
       "      <td>-0.306781</td>\n",
       "      <td>-0.423856</td>\n",
       "      <td>0.685524</td>\n",
       "      <td>-0.888186</td>\n",
       "    </tr>\n",
       "  </tbody>\n",
       "</table>\n",
       "<p>1650 rows × 9 columns</p>\n",
       "</div>"
      ],
      "text/plain": [
       "         0     1         2         3         4         5         6         7  \\\n",
       "0     10.0  12.0 -0.774026 -0.522604 -0.628725  1.006505 -0.951257  2.199826   \n",
       "1     13.0   6.0 -0.881257 -0.793767 -0.137943 -0.625780  0.939857  0.902029   \n",
       "2     23.0   0.0  0.271472  0.441530  0.038739  1.926963  0.902907  0.410509   \n",
       "3     10.0  12.0 -0.666796  0.562046 -0.510937  0.646238 -1.551934 -2.314411   \n",
       "4     23.0   0.0 -1.310179  2.610831  2.924539 -0.559683  0.963231 -1.208615   \n",
       "...    ...   ...       ...       ...       ...       ...       ...       ...   \n",
       "1645  23.0   0.0 -1.095718 -1.456609 -0.844669 -0.854647  0.896362  1.728524   \n",
       "1646  18.0   4.0  1.531432  1.224888 -0.020155  0.366354  0.586442 -0.111518   \n",
       "1647  18.0   4.0 -1.068911 -0.522604 -0.334255  0.477907 -0.905357  0.001706   \n",
       "1648  20.0   7.0 -1.068911  2.128764  3.061958 -2.400887  0.382480 -0.145337   \n",
       "1649  12.0  11.0 -0.505950  0.742821 -0.510937 -0.306781 -0.423856  0.685524   \n",
       "\n",
       "             8  \n",
       "0    -0.686013  \n",
       "1     0.041819  \n",
       "2     2.542684  \n",
       "3    -0.195162  \n",
       "4     0.045965  \n",
       "...        ...  \n",
       "1645  0.189459  \n",
       "1646 -0.211593  \n",
       "1647 -0.040722  \n",
       "1648 -0.562739  \n",
       "1649 -0.888186  \n",
       "\n",
       "[1650 rows x 9 columns]"
      ]
     },
     "execution_count": 378,
     "metadata": {},
     "output_type": "execute_result"
    }
   ],
   "source": [
    "pd.DataFrame(x_train)"
   ]
  },
  {
   "cell_type": "code",
   "execution_count": 380,
   "metadata": {},
   "outputs": [
    {
     "name": "stdout",
     "output_type": "stream",
     "text": [
      "Class counts before resampling: Counter({94: 80, 92: 79, 17: 77, 105: 76, 137: 72, 24: 65, 7: 61, 19: 53, 55: 51, 21: 51, 107: 40, 39: 33, 111: 32, 51: 32, 71: 31, 16: 31, 144: 30, 89: 27, 13: 24, 106: 23, 3: 22, 30: 21, 65: 19, 95: 18, 37: 17, 14: 16, 35: 16, 52: 16, 80: 16, 60: 16, 121: 16, 54: 14, 6: 13, 73: 13, 98: 13, 41: 13, 11: 12, 93: 12, 20: 12, 48: 11, 118: 11, 69: 11, 38: 11, 104: 10, 10: 10, 56: 9, 139: 9, 128: 8, 34: 8, 4: 8, 33: 8, 62: 8, 9: 7, 0: 7, 112: 7, 8: 7, 131: 6, 119: 6, 108: 6, 99: 6, 67: 6, 47: 6, 57: 6, 5: 5, 72: 5, 61: 5, 138: 5, 129: 5, 83: 5, 44: 5, 115: 5, 32: 5, 143: 4, 125: 4, 2: 4, 148: 4, 127: 4, 90: 4, 77: 4, 74: 4, 147: 4, 45: 4, 120: 4, 70: 4, 82: 4, 64: 3, 25: 3, 135: 3, 27: 3, 124: 3, 140: 3, 40: 3, 66: 3, 42: 3, 130: 3, 141: 3, 101: 3, 81: 3, 116: 3, 110: 3, 28: 2, 84: 2, 22: 2, 58: 2, 29: 2, 63: 2, 102: 2, 122: 2, 136: 2, 145: 2, 75: 2, 12: 1, 96: 1, 85: 1, 68: 1, 123: 1, 43: 1, 87: 1, 134: 1, 26: 1, 88: 1, 18: 1, 132: 1, 114: 1, 117: 1, 100: 1, 91: 1, 76: 1, 1: 1, 146: 1, 15: 1, 103: 1, 133: 1, 50: 1, 36: 1, 59: 1, 86: 1, 23: 1, 126: 1, 109: 1, 113: 1, 49: 1})\n",
      "Class counts after resampling: Counter({13: 80, 7: 80, 65: 80, 5: 80, 55: 80, 143: 80, 111: 80, 24: 80, 94: 80, 19: 80, 14: 80, 11: 80, 89: 80, 72: 80, 17: 80, 48: 80, 61: 80, 35: 80, 92: 80, 105: 80, 137: 80, 21: 80, 106: 80, 6: 80, 93: 80, 52: 80, 64: 80, 39: 80, 73: 80, 80: 80, 128: 80, 25: 80, 9: 80, 138: 80, 107: 80, 0: 80, 95: 80, 125: 80, 3: 80, 12: 80, 98: 80, 41: 80, 71: 80, 60: 80, 121: 80, 28: 80, 51: 80, 118: 80, 84: 80, 2: 80, 144: 80, 16: 80, 37: 80, 135: 80, 30: 80, 131: 80, 54: 80, 129: 80, 148: 80, 104: 80, 119: 80, 108: 80, 99: 80, 69: 80, 27: 80, 124: 80, 83: 80, 38: 80, 96: 80, 34: 80, 22: 80, 140: 80, 67: 80, 85: 80, 58: 80, 40: 80, 44: 80, 127: 80, 90: 80, 115: 80, 77: 80, 4: 80, 74: 80, 147: 80, 66: 80, 68: 80, 47: 80, 112: 80, 8: 80, 33: 80, 123: 80, 43: 80, 45: 80, 120: 80, 42: 80, 20: 80, 130: 80, 87: 80, 62: 80, 134: 80, 57: 80, 141: 80, 29: 80, 56: 80, 26: 80, 63: 80, 139: 80, 70: 80, 88: 80, 18: 80, 82: 80, 102: 80, 101: 80, 122: 80, 81: 80, 32: 80, 136: 80, 145: 80, 116: 80, 132: 80, 114: 80, 117: 80, 100: 80, 75: 80, 91: 80, 10: 80, 76: 80, 1: 80, 146: 80, 15: 80, 103: 80, 133: 80, 50: 80, 110: 80, 36: 80, 59: 80, 86: 80, 23: 80, 126: 80, 109: 80, 113: 80, 49: 80})\n"
     ]
    }
   ],
   "source": [
    "from imblearn.over_sampling import RandomOverSampler\n",
    "from collections import Counter\n",
    "import numpy as np\n",
    "\n",
    "# Convert y_train to a numpy array if it's not already\n",
    "y_train = np.array(y_train)\n",
    "\n",
    "# Count the number of samples in each class\n",
    "class_counts = Counter(y_train)\n",
    "print(f'Class counts before resampling: {class_counts}')\n",
    "\n",
    "# Initialize Random Over-Sampler\n",
    "ros = RandomOverSampler(random_state=42)\n",
    "\n",
    "# Fit and transform the training data\n",
    "x_train_resampled, y_train_resampled = ros.fit_resample(x_train, y_train)\n",
    "\n",
    "# Check the distribution of classes after resampling\n",
    "print(f'Class counts after resampling: {Counter(y_train_resampled)}')\n"
   ]
  },
  {
   "cell_type": "markdown",
   "metadata": {
    "id": "aLGYxP7gDRty"
   },
   "source": [
    "MODEL TRAINING"
   ]
  },
  {
   "cell_type": "code",
   "execution_count": 296,
   "metadata": {
    "id": "ZLDM1oPWDO5X"
   },
   "outputs": [],
   "source": [
    "from sklearn.ensemble import RandomForestClassifier, AdaBoostClassifier, GradientBoostingClassifier\n",
    "from sklearn.tree import DecisionTreeClassifier\n",
    "from sklearn.linear_model import LogisticRegression\n",
    "from sklearn.neighbors import KNeighborsClassifier\n",
    "from xgboost import XGBClassifier\n",
    "from sklearn.metrics import accuracy_score, classification_report, ConfusionMatrixDisplay, precision_score, recall_score, f1_score, roc_auc_score"
   ]
  },
  {
   "cell_type": "code",
   "execution_count": null,
   "metadata": {
    "id": "8PSixXIuHraI"
   },
   "outputs": [],
   "source": []
  },
  {
   "cell_type": "code",
   "execution_count": 252,
   "metadata": {
    "colab": {
     "base_uri": "https://localhost:8080/"
    },
    "id": "iNzavufTDUAU",
    "outputId": "e3859c6d-d842-4426-ded2-7ef268a78d60"
   },
   "outputs": [
    {
     "name": "stderr",
     "output_type": "stream",
     "text": [
      "D:\\Anaconda\\Lib\\site-packages\\sklearn\\metrics\\_classification.py:1509: UndefinedMetricWarning: Precision is ill-defined and being set to 0.0 in labels with no predicted samples. Use `zero_division` parameter to control this behavior.\n",
      "  _warn_prf(average, modifier, f\"{metric.capitalize()} is\", len(result))\n",
      "D:\\Anaconda\\Lib\\site-packages\\sklearn\\metrics\\_classification.py:1509: UndefinedMetricWarning: Recall is ill-defined and being set to 0.0 in labels with no true samples. Use `zero_division` parameter to control this behavior.\n",
      "  _warn_prf(average, modifier, f\"{metric.capitalize()} is\", len(result))\n",
      "D:\\Anaconda\\Lib\\site-packages\\sklearn\\ensemble\\_weight_boosting.py:519: FutureWarning: The SAMME.R algorithm (the default) is deprecated and will be removed in 1.6. Use the SAMME algorithm to circumvent this warning.\n",
      "  warnings.warn(\n"
     ]
    },
    {
     "name": "stdout",
     "output_type": "stream",
     "text": [
      "Random Forest\n",
      "Model performance for Training set\n",
      "Accuracy: 1.0\n",
      "F1 score: 1.0\n",
      "Precision: 1.0\n",
      "Recall: 1.0\n",
      "\n",
      "Model performance for Testing set\n",
      "Accuracy: 0.038181818181818185\n",
      "F1 score: 0.03716256698250735\n",
      "Precision: 0.03756662902315076\n",
      "Recall: 0.038181818181818185\n",
      "==============================\n"
     ]
    },
    {
     "name": "stderr",
     "output_type": "stream",
     "text": [
      "D:\\Anaconda\\Lib\\site-packages\\sklearn\\metrics\\_classification.py:1509: UndefinedMetricWarning: Precision is ill-defined and being set to 0.0 in labels with no predicted samples. Use `zero_division` parameter to control this behavior.\n",
      "  _warn_prf(average, modifier, f\"{metric.capitalize()} is\", len(result))\n",
      "D:\\Anaconda\\Lib\\site-packages\\sklearn\\metrics\\_classification.py:1509: UndefinedMetricWarning: Precision is ill-defined and being set to 0.0 in labels with no predicted samples. Use `zero_division` parameter to control this behavior.\n",
      "  _warn_prf(average, modifier, f\"{metric.capitalize()} is\", len(result))\n",
      "D:\\Anaconda\\Lib\\site-packages\\sklearn\\metrics\\_classification.py:1509: UndefinedMetricWarning: Recall is ill-defined and being set to 0.0 in labels with no true samples. Use `zero_division` parameter to control this behavior.\n",
      "  _warn_prf(average, modifier, f\"{metric.capitalize()} is\", len(result))\n"
     ]
    },
    {
     "name": "stdout",
     "output_type": "stream",
     "text": [
      "AdaBoost\n",
      "Model performance for Training set\n",
      "Accuracy: 0.02112676056338028\n",
      "F1 score: 0.010059068713586397\n",
      "Precision: 0.0077867739821711034\n",
      "Recall: 0.02112676056338028\n",
      "\n",
      "Model performance for Testing set\n",
      "Accuracy: 0.01090909090909091\n",
      "F1 score: 0.0002393219212232009\n",
      "Precision: 0.00012098806923206183\n",
      "Recall: 0.01090909090909091\n",
      "==============================\n"
     ]
    },
    {
     "name": "stderr",
     "output_type": "stream",
     "text": [
      "D:\\Anaconda\\Lib\\site-packages\\sklearn\\metrics\\_classification.py:1509: UndefinedMetricWarning: Precision is ill-defined and being set to 0.0 in labels with no predicted samples. Use `zero_division` parameter to control this behavior.\n",
      "  _warn_prf(average, modifier, f\"{metric.capitalize()} is\", len(result))\n",
      "D:\\Anaconda\\Lib\\site-packages\\sklearn\\metrics\\_classification.py:1509: UndefinedMetricWarning: Recall is ill-defined and being set to 0.0 in labels with no true samples. Use `zero_division` parameter to control this behavior.\n",
      "  _warn_prf(average, modifier, f\"{metric.capitalize()} is\", len(result))\n"
     ]
    },
    {
     "name": "stdout",
     "output_type": "stream",
     "text": [
      "Gradient Boost\n",
      "Model performance for Training set\n",
      "Accuracy: 0.9893485915492958\n",
      "F1 score: 0.9890651265302226\n",
      "Precision: 0.990954426341535\n",
      "Recall: 0.9893485915492958\n",
      "\n",
      "Model performance for Testing set\n",
      "Accuracy: 0.045454545454545456\n",
      "F1 score: 0.04160176307203033\n",
      "Precision: 0.05522314051728313\n",
      "Recall: 0.045454545454545456\n",
      "==============================\n"
     ]
    },
    {
     "name": "stderr",
     "output_type": "stream",
     "text": [
      "D:\\Anaconda\\Lib\\site-packages\\sklearn\\metrics\\_classification.py:1509: UndefinedMetricWarning: Precision is ill-defined and being set to 0.0 in labels with no predicted samples. Use `zero_division` parameter to control this behavior.\n",
      "  _warn_prf(average, modifier, f\"{metric.capitalize()} is\", len(result))\n",
      "D:\\Anaconda\\Lib\\site-packages\\sklearn\\metrics\\_classification.py:1509: UndefinedMetricWarning: Recall is ill-defined and being set to 0.0 in labels with no true samples. Use `zero_division` parameter to control this behavior.\n",
      "  _warn_prf(average, modifier, f\"{metric.capitalize()} is\", len(result))\n"
     ]
    },
    {
     "name": "stdout",
     "output_type": "stream",
     "text": [
      "KNN Classifier\n",
      "Model performance for Training set\n",
      "Accuracy: 0.9280809859154929\n",
      "F1 score: 0.9125445648445436\n",
      "Precision: 0.9148756851406785\n",
      "Recall: 0.9280809859154929\n",
      "\n",
      "Model performance for Testing set\n",
      "Accuracy: 0.03272727272727273\n",
      "F1 score: 0.03488984725608767\n",
      "Precision: 0.04751646942668614\n",
      "Recall: 0.03272727272727273\n",
      "==============================\n",
      "Logistic Regression\n",
      "Model performance for Training set\n",
      "Accuracy: 0.34920774647887326\n",
      "F1 score: 0.24316388841554612\n",
      "Precision: 0.20175690782870345\n",
      "Recall: 0.34920774647887326\n",
      "\n",
      "Model performance for Testing set\n",
      "Accuracy: 0.01090909090909091\n",
      "F1 score: 0.004899565981992682\n",
      "Precision: 0.004323888232979143\n",
      "Recall: 0.01090909090909091\n",
      "==============================\n",
      "Decision Tree\n",
      "Model performance for Training set\n",
      "Accuracy: 0.07526408450704225\n",
      "F1 score: 0.056504230936264666\n",
      "Precision: 0.09417522600099186\n",
      "Recall: 0.07526408450704225\n",
      "\n",
      "Model performance for Testing set\n",
      "Accuracy: 0.0036363636363636364\n",
      "F1 score: 4.832376925400181e-05\n",
      "Precision: 2.4323502584372148e-05\n",
      "Recall: 0.0036363636363636364\n",
      "==============================\n"
     ]
    },
    {
     "name": "stderr",
     "output_type": "stream",
     "text": [
      "D:\\Anaconda\\Lib\\site-packages\\sklearn\\metrics\\_classification.py:1509: UndefinedMetricWarning: Precision is ill-defined and being set to 0.0 in labels with no predicted samples. Use `zero_division` parameter to control this behavior.\n",
      "  _warn_prf(average, modifier, f\"{metric.capitalize()} is\", len(result))\n",
      "D:\\Anaconda\\Lib\\site-packages\\sklearn\\metrics\\_classification.py:1509: UndefinedMetricWarning: Precision is ill-defined and being set to 0.0 in labels with no predicted samples. Use `zero_division` parameter to control this behavior.\n",
      "  _warn_prf(average, modifier, f\"{metric.capitalize()} is\", len(result))\n",
      "D:\\Anaconda\\Lib\\site-packages\\sklearn\\metrics\\_classification.py:1509: UndefinedMetricWarning: Recall is ill-defined and being set to 0.0 in labels with no true samples. Use `zero_division` parameter to control this behavior.\n",
      "  _warn_prf(average, modifier, f\"{metric.capitalize()} is\", len(result))\n",
      "D:\\Anaconda\\Lib\\site-packages\\sklearn\\metrics\\_classification.py:1509: UndefinedMetricWarning: Precision is ill-defined and being set to 0.0 in labels with no predicted samples. Use `zero_division` parameter to control this behavior.\n",
      "  _warn_prf(average, modifier, f\"{metric.capitalize()} is\", len(result))\n",
      "D:\\Anaconda\\Lib\\site-packages\\sklearn\\metrics\\_classification.py:1509: UndefinedMetricWarning: Precision is ill-defined and being set to 0.0 in labels with no predicted samples. Use `zero_division` parameter to control this behavior.\n",
      "  _warn_prf(average, modifier, f\"{metric.capitalize()} is\", len(result))\n",
      "D:\\Anaconda\\Lib\\site-packages\\sklearn\\metrics\\_classification.py:1509: UndefinedMetricWarning: Recall is ill-defined and being set to 0.0 in labels with no true samples. Use `zero_division` parameter to control this behavior.\n",
      "  _warn_prf(average, modifier, f\"{metric.capitalize()} is\", len(result))\n"
     ]
    }
   ],
   "source": [
    "import numpy as np\n",
    "from sklearn.preprocessing import LabelBinarizer\n",
    "from sklearn.metrics import roc_auc_score\n",
    "\n",
    "models = {\n",
    "    \"Random Forest\": RandomForestClassifier(),\n",
    "    \"AdaBoost\": AdaBoostClassifier(),\n",
    "    \"Gradient Boost\":GradientBoostingClassifier(n_estimators=100, validation_fraction=0.1),\n",
    "    \"KNN Classifier\": KNeighborsClassifier(),\n",
    "    \"Logistic Regression\": LogisticRegression(multi_class='ovr', C=0.1, penalty='l2'),\n",
    "    \"Decision Tree\": DecisionTreeClassifier(max_depth=5, min_samples_split=10),\n",
    "}\n",
    "\n",
    "for i in range(len(list(models))):\n",
    "    model = list(models.values())[i]\n",
    "    model.fit(x_train_resampled, y_train_resampled)\n",
    "\n",
    "    # Make predictions\n",
    "    y_train_pred = model.predict(x_train_resampled)\n",
    "    y_test_pred = model.predict(x_test)\n",
    "\n",
    "\n",
    "\n",
    "    # Training set performance\n",
    "    model_train_accuracy = accuracy_score(y_train_resampled, y_train_pred)\n",
    "    model_train_f1 = f1_score(y_train_resampled, y_train_pred, average='weighted')\n",
    "    model_train_precision = precision_score(y_train_resampled, y_train_pred, average='weighted')\n",
    "    model_train_recall = recall_score(y_train_resampled, y_train_pred, average='weighted')\n",
    "\n",
    "    # Testing set performance\n",
    "    model_test_accuracy = accuracy_score(y_test, y_test_pred)\n",
    "    model_test_f1 = f1_score(y_test, y_test_pred, average='weighted')\n",
    "    model_test_precision = precision_score(y_test, y_test_pred, average='weighted')\n",
    "    model_test_recall = recall_score(y_test, y_test_pred, average='weighted')\n",
    "\n",
    "    print(list(models.keys())[i])\n",
    "    print('Model performance for Training set')\n",
    "    print('Accuracy:', model_train_accuracy)\n",
    "    print('F1 score:', model_train_f1)\n",
    "    print('Precision:', model_train_precision)\n",
    "    print('Recall:', model_train_recall)\n",
    "    print()\n",
    "    print('Model performance for Testing set')\n",
    "    print('Accuracy:', model_test_accuracy)\n",
    "    print('F1 score:', model_test_f1)\n",
    "    print('Precision:', model_test_precision)\n",
    "    print('Recall:', model_test_recall)\n",
    "    print('='*30)\n"
   ]
  },
  {
   "cell_type": "code",
   "execution_count": 298,
   "metadata": {
    "id": "Ylq8tv-3I1ZU"
   },
   "outputs": [],
   "source": [
    "## Hyperparameter tuning\n",
    "KNN_params = { 'n_neighbors' : [3,5,7,9],\n",
    "               'weights' : ['uniform','distance'],\n",
    "               'metric' : ['minkowski','euclidean','manhattan'],\n",
    "                'p':[1,2]\n",
    "}\n",
    "\n",
    "rf_params={\n",
    "    'max_depth':[5,None,10,20],\n",
    "    'max_features':[5,7,8],\n",
    "    'min_samples_split':[2,5,8,10,15,20],\n",
    "    'min_samples_leaf': [1, 2, 5],\n",
    "    'n_estimators':[100,200,500,1000]\n",
    "}\n",
    "\n",
    "gb_params={\n",
    "    'loss':['log_loss','exponential'],\n",
    "    'criterion':['friedman_mse','squared_error','mse'],\n",
    "    'min_samples_split':[2,5,8,10],\n",
    "    'n_estimators':[100,200,500],\n",
    "    'max_depth':[3,5,7,8,None],\n",
    "    'learning_rate': [0.01, 0.1, 0.2],\n",
    "    'subsample': [0.8,  1.0]\n",
    "}"
   ]
  },
  {
   "cell_type": "code",
   "execution_count": 300,
   "metadata": {
    "id": "2u0dTzIiF98N"
   },
   "outputs": [],
   "source": [
    "# Models list for Hyperparameter tuning\n",
    "randomcv_models=[\n",
    "    ('KNN',KNeighborsClassifier(),KNN_params),\n",
    "    ('RF',RandomForestClassifier(),rf_params),\n",
    "    ('GB',GradientBoostingClassifier(),gb_params)\n",
    "]"
   ]
  },
  {
   "cell_type": "code",
   "execution_count": null,
   "metadata": {
    "colab": {
     "base_uri": "https://localhost:8080/"
    },
    "id": "Old_WDTsDVr6",
    "outputId": "e141aa0b-16b2-49c1-831a-08ec77fe8ce4"
   },
   "outputs": [],
   "source": [
    "from sklearn.model_selection import RandomizedSearchCV, StratifiedKFold\n",
    "\n",
    "# Optional: Use StratifiedKFold if your dataset is imbalanced\n",
    "cv = StratifiedKFold(n_splits=3)\n",
    "\n",
    "model_param={}\n",
    "for name, model, params in randomcv_models:\n",
    "    random=RandomizedSearchCV(estimator=model,\n",
    "                             param_distributions=params,\n",
    "                             n_iter=min(50, len(list(params.values()))),\n",
    "                             cv=cv,\n",
    "                             verbose=2,\n",
    "                             n_jobs=2,\n",
    "                              random_state=42)\n",
    "    random.fit(x_train_resampled,y_train_resampled)\n",
    "    model_param[name]=random.best_params_\n",
    "\n",
    "for model_name in model_param:\n",
    "    print(f\"Best Params for {model_name}\")\n",
    "    print(model_param[model_name])"
   ]
  },
  {
   "cell_type": "code",
   "execution_count": 304,
   "metadata": {
    "id": "6EaDJcoSGEN1"
   },
   "outputs": [
    {
     "name": "stderr",
     "output_type": "stream",
     "text": [
      "D:\\Anaconda\\Lib\\site-packages\\sklearn\\metrics\\_classification.py:1509: UndefinedMetricWarning: Precision is ill-defined and being set to 0.0 in labels with no predicted samples. Use `zero_division` parameter to control this behavior.\n",
      "  _warn_prf(average, modifier, f\"{metric.capitalize()} is\", len(result))\n",
      "D:\\Anaconda\\Lib\\site-packages\\sklearn\\metrics\\_classification.py:1509: UndefinedMetricWarning: Recall is ill-defined and being set to 0.0 in labels with no true samples. Use `zero_division` parameter to control this behavior.\n",
      "  _warn_prf(average, modifier, f\"{metric.capitalize()} is\", len(result))\n"
     ]
    },
    {
     "name": "stdout",
     "output_type": "stream",
     "text": [
      "KNN\n",
      "Model performance for Training set\n",
      "Accuracy: 1.0\n",
      "F1 score: 1.0\n",
      "Precision: 1.0\n",
      "Recall: 1.0\n",
      "\n",
      "Model performance for Testing set\n",
      "Accuracy: 0.03090909090909091\n",
      "F1 score: 0.031245991601722832\n",
      "Precision: 0.046225108225108225\n",
      "Recall: 0.03090909090909091\n",
      "==============================\n"
     ]
    },
    {
     "name": "stderr",
     "output_type": "stream",
     "text": [
      "D:\\Anaconda\\Lib\\site-packages\\sklearn\\metrics\\_classification.py:1509: UndefinedMetricWarning: Precision is ill-defined and being set to 0.0 in labels with no predicted samples. Use `zero_division` parameter to control this behavior.\n",
      "  _warn_prf(average, modifier, f\"{metric.capitalize()} is\", len(result))\n",
      "D:\\Anaconda\\Lib\\site-packages\\sklearn\\metrics\\_classification.py:1509: UndefinedMetricWarning: Precision is ill-defined and being set to 0.0 in labels with no predicted samples. Use `zero_division` parameter to control this behavior.\n",
      "  _warn_prf(average, modifier, f\"{metric.capitalize()} is\", len(result))\n",
      "D:\\Anaconda\\Lib\\site-packages\\sklearn\\metrics\\_classification.py:1509: UndefinedMetricWarning: Recall is ill-defined and being set to 0.0 in labels with no true samples. Use `zero_division` parameter to control this behavior.\n",
      "  _warn_prf(average, modifier, f\"{metric.capitalize()} is\", len(result))\n"
     ]
    },
    {
     "name": "stdout",
     "output_type": "stream",
     "text": [
      "RF\n",
      "Model performance for Training set\n",
      "Accuracy: 0.27755281690140843\n",
      "F1 score: 0.21939602117819237\n",
      "Precision: 0.2876152514827061\n",
      "Recall: 0.27755281690140843\n",
      "\n",
      "Model performance for Testing set\n",
      "Accuracy: 0.01090909090909091\n",
      "F1 score: 0.0018050121708658292\n",
      "Precision: 0.0010099214979597756\n",
      "Recall: 0.01090909090909091\n",
      "==============================\n",
      "GB\n",
      "Model performance for Training set\n",
      "Accuracy: 0.011355633802816902\n",
      "F1 score: 0.008909929723207054\n",
      "Precision: 0.024159906694120513\n",
      "Recall: 0.011355633802816902\n",
      "\n",
      "Model performance for Testing set\n",
      "Accuracy: 0.034545454545454546\n",
      "F1 score: 0.016455084324904674\n",
      "Precision: 0.02210060656881194\n",
      "Recall: 0.034545454545454546\n",
      "==============================\n"
     ]
    },
    {
     "name": "stderr",
     "output_type": "stream",
     "text": [
      "D:\\Anaconda\\Lib\\site-packages\\sklearn\\metrics\\_classification.py:1509: UndefinedMetricWarning: Precision is ill-defined and being set to 0.0 in labels with no predicted samples. Use `zero_division` parameter to control this behavior.\n",
      "  _warn_prf(average, modifier, f\"{metric.capitalize()} is\", len(result))\n",
      "D:\\Anaconda\\Lib\\site-packages\\sklearn\\metrics\\_classification.py:1509: UndefinedMetricWarning: Precision is ill-defined and being set to 0.0 in labels with no predicted samples. Use `zero_division` parameter to control this behavior.\n",
      "  _warn_prf(average, modifier, f\"{metric.capitalize()} is\", len(result))\n",
      "D:\\Anaconda\\Lib\\site-packages\\sklearn\\metrics\\_classification.py:1509: UndefinedMetricWarning: Recall is ill-defined and being set to 0.0 in labels with no true samples. Use `zero_division` parameter to control this behavior.\n",
      "  _warn_prf(average, modifier, f\"{metric.capitalize()} is\", len(result))\n"
     ]
    }
   ],
   "source": [
    "models={\n",
    "    'KNN':KNeighborsClassifier(weights= 'distance', p= 2, n_neighbors= 7, metric= 'manhattan'),\n",
    "    'RF':RandomForestClassifier(n_estimators= 500, min_samples_split= 5, min_samples_leaf= 2, max_features= 7, max_depth= 5),\n",
    "    'GB':GradientBoostingClassifier(subsample= 0.8, n_estimators= 500, min_samples_split= 10, max_depth= 8, loss= 'log_loss', learning_rate= 0.2, criterion= 'squared_error')\n",
    "}\n",
    "\n",
    "for i in range(len(list(models))):\n",
    "    model=list(models.values())[i]\n",
    "    model.fit(x_train_resampled,y_train_resampled)\n",
    "\n",
    "    # make predictions\n",
    "    y_train_pred= model.predict(x_train_resampled)\n",
    "    y_test_pred= model.predict(x_test)\n",
    "\n",
    "    # training set performance\n",
    "    model_train_accuracy=accuracy_score(y_train_resampled,y_train_pred)\n",
    "    model_train_f1=f1_score(y_train_resampled,y_train_pred,average='weighted')\n",
    "    model_train_precision=precision_score(y_train_resampled,y_train_pred,average='weighted')\n",
    "    model_train_recall=recall_score(y_train_resampled,y_train_pred,average='weighted')\n",
    "\n",
    "    # testing set performance\n",
    "    model_test_accuracy=accuracy_score(y_test,y_test_pred)\n",
    "    model_test_f1=f1_score(y_test,y_test_pred,average='weighted')\n",
    "    model_test_precision=precision_score(y_test,y_test_pred,average='weighted')\n",
    "    model_test_recall=recall_score(y_test,y_test_pred,average='weighted')\n",
    "\n",
    "    print(list(models.keys())[i])\n",
    "    print('Model performance for Training set')\n",
    "    print('Accuracy:',model_train_accuracy)\n",
    "    print('F1 score:',model_train_f1)\n",
    "    print('Precision:',model_train_precision)\n",
    "    print('Recall:',model_train_recall)\n",
    "    print()\n",
    "    print('Model performance for Testing set')\n",
    "    print('Accuracy:',model_test_accuracy)\n",
    "    print('F1 score:',model_test_f1)\n",
    "    print('Precision:',model_test_precision)\n",
    "    print('Recall:',model_test_recall)\n",
    "    print('='*30)"
   ]
  },
  {
   "cell_type": "code",
   "execution_count": 383,
   "metadata": {
    "id": "_161GmCLzCNi"
   },
   "outputs": [
    {
     "data": {
      "text/html": [
       "<style>#sk-container-id-6 {\n",
       "  /* Definition of color scheme common for light and dark mode */\n",
       "  --sklearn-color-text: black;\n",
       "  --sklearn-color-line: gray;\n",
       "  /* Definition of color scheme for unfitted estimators */\n",
       "  --sklearn-color-unfitted-level-0: #fff5e6;\n",
       "  --sklearn-color-unfitted-level-1: #f6e4d2;\n",
       "  --sklearn-color-unfitted-level-2: #ffe0b3;\n",
       "  --sklearn-color-unfitted-level-3: chocolate;\n",
       "  /* Definition of color scheme for fitted estimators */\n",
       "  --sklearn-color-fitted-level-0: #f0f8ff;\n",
       "  --sklearn-color-fitted-level-1: #d4ebff;\n",
       "  --sklearn-color-fitted-level-2: #b3dbfd;\n",
       "  --sklearn-color-fitted-level-3: cornflowerblue;\n",
       "\n",
       "  /* Specific color for light theme */\n",
       "  --sklearn-color-text-on-default-background: var(--sg-text-color, var(--theme-code-foreground, var(--jp-content-font-color1, black)));\n",
       "  --sklearn-color-background: var(--sg-background-color, var(--theme-background, var(--jp-layout-color0, white)));\n",
       "  --sklearn-color-border-box: var(--sg-text-color, var(--theme-code-foreground, var(--jp-content-font-color1, black)));\n",
       "  --sklearn-color-icon: #696969;\n",
       "\n",
       "  @media (prefers-color-scheme: dark) {\n",
       "    /* Redefinition of color scheme for dark theme */\n",
       "    --sklearn-color-text-on-default-background: var(--sg-text-color, var(--theme-code-foreground, var(--jp-content-font-color1, white)));\n",
       "    --sklearn-color-background: var(--sg-background-color, var(--theme-background, var(--jp-layout-color0, #111)));\n",
       "    --sklearn-color-border-box: var(--sg-text-color, var(--theme-code-foreground, var(--jp-content-font-color1, white)));\n",
       "    --sklearn-color-icon: #878787;\n",
       "  }\n",
       "}\n",
       "\n",
       "#sk-container-id-6 {\n",
       "  color: var(--sklearn-color-text);\n",
       "}\n",
       "\n",
       "#sk-container-id-6 pre {\n",
       "  padding: 0;\n",
       "}\n",
       "\n",
       "#sk-container-id-6 input.sk-hidden--visually {\n",
       "  border: 0;\n",
       "  clip: rect(1px 1px 1px 1px);\n",
       "  clip: rect(1px, 1px, 1px, 1px);\n",
       "  height: 1px;\n",
       "  margin: -1px;\n",
       "  overflow: hidden;\n",
       "  padding: 0;\n",
       "  position: absolute;\n",
       "  width: 1px;\n",
       "}\n",
       "\n",
       "#sk-container-id-6 div.sk-dashed-wrapped {\n",
       "  border: 1px dashed var(--sklearn-color-line);\n",
       "  margin: 0 0.4em 0.5em 0.4em;\n",
       "  box-sizing: border-box;\n",
       "  padding-bottom: 0.4em;\n",
       "  background-color: var(--sklearn-color-background);\n",
       "}\n",
       "\n",
       "#sk-container-id-6 div.sk-container {\n",
       "  /* jupyter's `normalize.less` sets `[hidden] { display: none; }`\n",
       "     but bootstrap.min.css set `[hidden] { display: none !important; }`\n",
       "     so we also need the `!important` here to be able to override the\n",
       "     default hidden behavior on the sphinx rendered scikit-learn.org.\n",
       "     See: https://github.com/scikit-learn/scikit-learn/issues/21755 */\n",
       "  display: inline-block !important;\n",
       "  position: relative;\n",
       "}\n",
       "\n",
       "#sk-container-id-6 div.sk-text-repr-fallback {\n",
       "  display: none;\n",
       "}\n",
       "\n",
       "div.sk-parallel-item,\n",
       "div.sk-serial,\n",
       "div.sk-item {\n",
       "  /* draw centered vertical line to link estimators */\n",
       "  background-image: linear-gradient(var(--sklearn-color-text-on-default-background), var(--sklearn-color-text-on-default-background));\n",
       "  background-size: 2px 100%;\n",
       "  background-repeat: no-repeat;\n",
       "  background-position: center center;\n",
       "}\n",
       "\n",
       "/* Parallel-specific style estimator block */\n",
       "\n",
       "#sk-container-id-6 div.sk-parallel-item::after {\n",
       "  content: \"\";\n",
       "  width: 100%;\n",
       "  border-bottom: 2px solid var(--sklearn-color-text-on-default-background);\n",
       "  flex-grow: 1;\n",
       "}\n",
       "\n",
       "#sk-container-id-6 div.sk-parallel {\n",
       "  display: flex;\n",
       "  align-items: stretch;\n",
       "  justify-content: center;\n",
       "  background-color: var(--sklearn-color-background);\n",
       "  position: relative;\n",
       "}\n",
       "\n",
       "#sk-container-id-6 div.sk-parallel-item {\n",
       "  display: flex;\n",
       "  flex-direction: column;\n",
       "}\n",
       "\n",
       "#sk-container-id-6 div.sk-parallel-item:first-child::after {\n",
       "  align-self: flex-end;\n",
       "  width: 50%;\n",
       "}\n",
       "\n",
       "#sk-container-id-6 div.sk-parallel-item:last-child::after {\n",
       "  align-self: flex-start;\n",
       "  width: 50%;\n",
       "}\n",
       "\n",
       "#sk-container-id-6 div.sk-parallel-item:only-child::after {\n",
       "  width: 0;\n",
       "}\n",
       "\n",
       "/* Serial-specific style estimator block */\n",
       "\n",
       "#sk-container-id-6 div.sk-serial {\n",
       "  display: flex;\n",
       "  flex-direction: column;\n",
       "  align-items: center;\n",
       "  background-color: var(--sklearn-color-background);\n",
       "  padding-right: 1em;\n",
       "  padding-left: 1em;\n",
       "}\n",
       "\n",
       "\n",
       "/* Toggleable style: style used for estimator/Pipeline/ColumnTransformer box that is\n",
       "clickable and can be expanded/collapsed.\n",
       "- Pipeline and ColumnTransformer use this feature and define the default style\n",
       "- Estimators will overwrite some part of the style using the `sk-estimator` class\n",
       "*/\n",
       "\n",
       "/* Pipeline and ColumnTransformer style (default) */\n",
       "\n",
       "#sk-container-id-6 div.sk-toggleable {\n",
       "  /* Default theme specific background. It is overwritten whether we have a\n",
       "  specific estimator or a Pipeline/ColumnTransformer */\n",
       "  background-color: var(--sklearn-color-background);\n",
       "}\n",
       "\n",
       "/* Toggleable label */\n",
       "#sk-container-id-6 label.sk-toggleable__label {\n",
       "  cursor: pointer;\n",
       "  display: block;\n",
       "  width: 100%;\n",
       "  margin-bottom: 0;\n",
       "  padding: 0.5em;\n",
       "  box-sizing: border-box;\n",
       "  text-align: center;\n",
       "}\n",
       "\n",
       "#sk-container-id-6 label.sk-toggleable__label-arrow:before {\n",
       "  /* Arrow on the left of the label */\n",
       "  content: \"▸\";\n",
       "  float: left;\n",
       "  margin-right: 0.25em;\n",
       "  color: var(--sklearn-color-icon);\n",
       "}\n",
       "\n",
       "#sk-container-id-6 label.sk-toggleable__label-arrow:hover:before {\n",
       "  color: var(--sklearn-color-text);\n",
       "}\n",
       "\n",
       "/* Toggleable content - dropdown */\n",
       "\n",
       "#sk-container-id-6 div.sk-toggleable__content {\n",
       "  max-height: 0;\n",
       "  max-width: 0;\n",
       "  overflow: hidden;\n",
       "  text-align: left;\n",
       "  /* unfitted */\n",
       "  background-color: var(--sklearn-color-unfitted-level-0);\n",
       "}\n",
       "\n",
       "#sk-container-id-6 div.sk-toggleable__content.fitted {\n",
       "  /* fitted */\n",
       "  background-color: var(--sklearn-color-fitted-level-0);\n",
       "}\n",
       "\n",
       "#sk-container-id-6 div.sk-toggleable__content pre {\n",
       "  margin: 0.2em;\n",
       "  border-radius: 0.25em;\n",
       "  color: var(--sklearn-color-text);\n",
       "  /* unfitted */\n",
       "  background-color: var(--sklearn-color-unfitted-level-0);\n",
       "}\n",
       "\n",
       "#sk-container-id-6 div.sk-toggleable__content.fitted pre {\n",
       "  /* unfitted */\n",
       "  background-color: var(--sklearn-color-fitted-level-0);\n",
       "}\n",
       "\n",
       "#sk-container-id-6 input.sk-toggleable__control:checked~div.sk-toggleable__content {\n",
       "  /* Expand drop-down */\n",
       "  max-height: 200px;\n",
       "  max-width: 100%;\n",
       "  overflow: auto;\n",
       "}\n",
       "\n",
       "#sk-container-id-6 input.sk-toggleable__control:checked~label.sk-toggleable__label-arrow:before {\n",
       "  content: \"▾\";\n",
       "}\n",
       "\n",
       "/* Pipeline/ColumnTransformer-specific style */\n",
       "\n",
       "#sk-container-id-6 div.sk-label input.sk-toggleable__control:checked~label.sk-toggleable__label {\n",
       "  color: var(--sklearn-color-text);\n",
       "  background-color: var(--sklearn-color-unfitted-level-2);\n",
       "}\n",
       "\n",
       "#sk-container-id-6 div.sk-label.fitted input.sk-toggleable__control:checked~label.sk-toggleable__label {\n",
       "  background-color: var(--sklearn-color-fitted-level-2);\n",
       "}\n",
       "\n",
       "/* Estimator-specific style */\n",
       "\n",
       "/* Colorize estimator box */\n",
       "#sk-container-id-6 div.sk-estimator input.sk-toggleable__control:checked~label.sk-toggleable__label {\n",
       "  /* unfitted */\n",
       "  background-color: var(--sklearn-color-unfitted-level-2);\n",
       "}\n",
       "\n",
       "#sk-container-id-6 div.sk-estimator.fitted input.sk-toggleable__control:checked~label.sk-toggleable__label {\n",
       "  /* fitted */\n",
       "  background-color: var(--sklearn-color-fitted-level-2);\n",
       "}\n",
       "\n",
       "#sk-container-id-6 div.sk-label label.sk-toggleable__label,\n",
       "#sk-container-id-6 div.sk-label label {\n",
       "  /* The background is the default theme color */\n",
       "  color: var(--sklearn-color-text-on-default-background);\n",
       "}\n",
       "\n",
       "/* On hover, darken the color of the background */\n",
       "#sk-container-id-6 div.sk-label:hover label.sk-toggleable__label {\n",
       "  color: var(--sklearn-color-text);\n",
       "  background-color: var(--sklearn-color-unfitted-level-2);\n",
       "}\n",
       "\n",
       "/* Label box, darken color on hover, fitted */\n",
       "#sk-container-id-6 div.sk-label.fitted:hover label.sk-toggleable__label.fitted {\n",
       "  color: var(--sklearn-color-text);\n",
       "  background-color: var(--sklearn-color-fitted-level-2);\n",
       "}\n",
       "\n",
       "/* Estimator label */\n",
       "\n",
       "#sk-container-id-6 div.sk-label label {\n",
       "  font-family: monospace;\n",
       "  font-weight: bold;\n",
       "  display: inline-block;\n",
       "  line-height: 1.2em;\n",
       "}\n",
       "\n",
       "#sk-container-id-6 div.sk-label-container {\n",
       "  text-align: center;\n",
       "}\n",
       "\n",
       "/* Estimator-specific */\n",
       "#sk-container-id-6 div.sk-estimator {\n",
       "  font-family: monospace;\n",
       "  border: 1px dotted var(--sklearn-color-border-box);\n",
       "  border-radius: 0.25em;\n",
       "  box-sizing: border-box;\n",
       "  margin-bottom: 0.5em;\n",
       "  /* unfitted */\n",
       "  background-color: var(--sklearn-color-unfitted-level-0);\n",
       "}\n",
       "\n",
       "#sk-container-id-6 div.sk-estimator.fitted {\n",
       "  /* fitted */\n",
       "  background-color: var(--sklearn-color-fitted-level-0);\n",
       "}\n",
       "\n",
       "/* on hover */\n",
       "#sk-container-id-6 div.sk-estimator:hover {\n",
       "  /* unfitted */\n",
       "  background-color: var(--sklearn-color-unfitted-level-2);\n",
       "}\n",
       "\n",
       "#sk-container-id-6 div.sk-estimator.fitted:hover {\n",
       "  /* fitted */\n",
       "  background-color: var(--sklearn-color-fitted-level-2);\n",
       "}\n",
       "\n",
       "/* Specification for estimator info (e.g. \"i\" and \"?\") */\n",
       "\n",
       "/* Common style for \"i\" and \"?\" */\n",
       "\n",
       ".sk-estimator-doc-link,\n",
       "a:link.sk-estimator-doc-link,\n",
       "a:visited.sk-estimator-doc-link {\n",
       "  float: right;\n",
       "  font-size: smaller;\n",
       "  line-height: 1em;\n",
       "  font-family: monospace;\n",
       "  background-color: var(--sklearn-color-background);\n",
       "  border-radius: 1em;\n",
       "  height: 1em;\n",
       "  width: 1em;\n",
       "  text-decoration: none !important;\n",
       "  margin-left: 1ex;\n",
       "  /* unfitted */\n",
       "  border: var(--sklearn-color-unfitted-level-1) 1pt solid;\n",
       "  color: var(--sklearn-color-unfitted-level-1);\n",
       "}\n",
       "\n",
       ".sk-estimator-doc-link.fitted,\n",
       "a:link.sk-estimator-doc-link.fitted,\n",
       "a:visited.sk-estimator-doc-link.fitted {\n",
       "  /* fitted */\n",
       "  border: var(--sklearn-color-fitted-level-1) 1pt solid;\n",
       "  color: var(--sklearn-color-fitted-level-1);\n",
       "}\n",
       "\n",
       "/* On hover */\n",
       "div.sk-estimator:hover .sk-estimator-doc-link:hover,\n",
       ".sk-estimator-doc-link:hover,\n",
       "div.sk-label-container:hover .sk-estimator-doc-link:hover,\n",
       ".sk-estimator-doc-link:hover {\n",
       "  /* unfitted */\n",
       "  background-color: var(--sklearn-color-unfitted-level-3);\n",
       "  color: var(--sklearn-color-background);\n",
       "  text-decoration: none;\n",
       "}\n",
       "\n",
       "div.sk-estimator.fitted:hover .sk-estimator-doc-link.fitted:hover,\n",
       ".sk-estimator-doc-link.fitted:hover,\n",
       "div.sk-label-container:hover .sk-estimator-doc-link.fitted:hover,\n",
       ".sk-estimator-doc-link.fitted:hover {\n",
       "  /* fitted */\n",
       "  background-color: var(--sklearn-color-fitted-level-3);\n",
       "  color: var(--sklearn-color-background);\n",
       "  text-decoration: none;\n",
       "}\n",
       "\n",
       "/* Span, style for the box shown on hovering the info icon */\n",
       ".sk-estimator-doc-link span {\n",
       "  display: none;\n",
       "  z-index: 9999;\n",
       "  position: relative;\n",
       "  font-weight: normal;\n",
       "  right: .2ex;\n",
       "  padding: .5ex;\n",
       "  margin: .5ex;\n",
       "  width: min-content;\n",
       "  min-width: 20ex;\n",
       "  max-width: 50ex;\n",
       "  color: var(--sklearn-color-text);\n",
       "  box-shadow: 2pt 2pt 4pt #999;\n",
       "  /* unfitted */\n",
       "  background: var(--sklearn-color-unfitted-level-0);\n",
       "  border: .5pt solid var(--sklearn-color-unfitted-level-3);\n",
       "}\n",
       "\n",
       ".sk-estimator-doc-link.fitted span {\n",
       "  /* fitted */\n",
       "  background: var(--sklearn-color-fitted-level-0);\n",
       "  border: var(--sklearn-color-fitted-level-3);\n",
       "}\n",
       "\n",
       ".sk-estimator-doc-link:hover span {\n",
       "  display: block;\n",
       "}\n",
       "\n",
       "/* \"?\"-specific style due to the `<a>` HTML tag */\n",
       "\n",
       "#sk-container-id-6 a.estimator_doc_link {\n",
       "  float: right;\n",
       "  font-size: 1rem;\n",
       "  line-height: 1em;\n",
       "  font-family: monospace;\n",
       "  background-color: var(--sklearn-color-background);\n",
       "  border-radius: 1rem;\n",
       "  height: 1rem;\n",
       "  width: 1rem;\n",
       "  text-decoration: none;\n",
       "  /* unfitted */\n",
       "  color: var(--sklearn-color-unfitted-level-1);\n",
       "  border: var(--sklearn-color-unfitted-level-1) 1pt solid;\n",
       "}\n",
       "\n",
       "#sk-container-id-6 a.estimator_doc_link.fitted {\n",
       "  /* fitted */\n",
       "  border: var(--sklearn-color-fitted-level-1) 1pt solid;\n",
       "  color: var(--sklearn-color-fitted-level-1);\n",
       "}\n",
       "\n",
       "/* On hover */\n",
       "#sk-container-id-6 a.estimator_doc_link:hover {\n",
       "  /* unfitted */\n",
       "  background-color: var(--sklearn-color-unfitted-level-3);\n",
       "  color: var(--sklearn-color-background);\n",
       "  text-decoration: none;\n",
       "}\n",
       "\n",
       "#sk-container-id-6 a.estimator_doc_link.fitted:hover {\n",
       "  /* fitted */\n",
       "  background-color: var(--sklearn-color-fitted-level-3);\n",
       "}\n",
       "</style><div id=\"sk-container-id-6\" class=\"sk-top-container\"><div class=\"sk-text-repr-fallback\"><pre>KNeighborsClassifier(metric=&#x27;manhattan&#x27;, n_neighbors=7, weights=&#x27;distance&#x27;)</pre><b>In a Jupyter environment, please rerun this cell to show the HTML representation or trust the notebook. <br />On GitHub, the HTML representation is unable to render, please try loading this page with nbviewer.org.</b></div><div class=\"sk-container\" hidden><div class=\"sk-item\"><div class=\"sk-estimator fitted sk-toggleable\"><input class=\"sk-toggleable__control sk-hidden--visually\" id=\"sk-estimator-id-17\" type=\"checkbox\" checked><label for=\"sk-estimator-id-17\" class=\"sk-toggleable__label fitted sk-toggleable__label-arrow fitted\">&nbsp;&nbsp;KNeighborsClassifier<a class=\"sk-estimator-doc-link fitted\" rel=\"noreferrer\" target=\"_blank\" href=\"https://scikit-learn.org/1.4/modules/generated/sklearn.neighbors.KNeighborsClassifier.html\">?<span>Documentation for KNeighborsClassifier</span></a><span class=\"sk-estimator-doc-link fitted\">i<span>Fitted</span></span></label><div class=\"sk-toggleable__content fitted\"><pre>KNeighborsClassifier(metric=&#x27;manhattan&#x27;, n_neighbors=7, weights=&#x27;distance&#x27;)</pre></div> </div></div></div></div>"
      ],
      "text/plain": [
       "KNeighborsClassifier(metric='manhattan', n_neighbors=7, weights='distance')"
      ]
     },
     "execution_count": 383,
     "metadata": {},
     "output_type": "execute_result"
    }
   ],
   "source": [
    "Crop_model=KNeighborsClassifier(weights= 'distance', p= 2, n_neighbors= 7, metric= 'manhattan')\n",
    "Crop_model.fit(x_train, y_train)"
   ]
  },
  {
   "cell_type": "code",
   "execution_count": 21,
   "metadata": {},
   "outputs": [
    {
     "data": {
      "text/html": [
       "<style>#sk-container-id-1 {color: black;}#sk-container-id-1 pre{padding: 0;}#sk-container-id-1 div.sk-toggleable {background-color: white;}#sk-container-id-1 label.sk-toggleable__label {cursor: pointer;display: block;width: 100%;margin-bottom: 0;padding: 0.3em;box-sizing: border-box;text-align: center;}#sk-container-id-1 label.sk-toggleable__label-arrow:before {content: \"▸\";float: left;margin-right: 0.25em;color: #696969;}#sk-container-id-1 label.sk-toggleable__label-arrow:hover:before {color: black;}#sk-container-id-1 div.sk-estimator:hover label.sk-toggleable__label-arrow:before {color: black;}#sk-container-id-1 div.sk-toggleable__content {max-height: 0;max-width: 0;overflow: hidden;text-align: left;background-color: #f0f8ff;}#sk-container-id-1 div.sk-toggleable__content pre {margin: 0.2em;color: black;border-radius: 0.25em;background-color: #f0f8ff;}#sk-container-id-1 input.sk-toggleable__control:checked~div.sk-toggleable__content {max-height: 200px;max-width: 100%;overflow: auto;}#sk-container-id-1 input.sk-toggleable__control:checked~label.sk-toggleable__label-arrow:before {content: \"▾\";}#sk-container-id-1 div.sk-estimator input.sk-toggleable__control:checked~label.sk-toggleable__label {background-color: #d4ebff;}#sk-container-id-1 div.sk-label input.sk-toggleable__control:checked~label.sk-toggleable__label {background-color: #d4ebff;}#sk-container-id-1 input.sk-hidden--visually {border: 0;clip: rect(1px 1px 1px 1px);clip: rect(1px, 1px, 1px, 1px);height: 1px;margin: -1px;overflow: hidden;padding: 0;position: absolute;width: 1px;}#sk-container-id-1 div.sk-estimator {font-family: monospace;background-color: #f0f8ff;border: 1px dotted black;border-radius: 0.25em;box-sizing: border-box;margin-bottom: 0.5em;}#sk-container-id-1 div.sk-estimator:hover {background-color: #d4ebff;}#sk-container-id-1 div.sk-parallel-item::after {content: \"\";width: 100%;border-bottom: 1px solid gray;flex-grow: 1;}#sk-container-id-1 div.sk-label:hover label.sk-toggleable__label {background-color: #d4ebff;}#sk-container-id-1 div.sk-serial::before {content: \"\";position: absolute;border-left: 1px solid gray;box-sizing: border-box;top: 0;bottom: 0;left: 50%;z-index: 0;}#sk-container-id-1 div.sk-serial {display: flex;flex-direction: column;align-items: center;background-color: white;padding-right: 0.2em;padding-left: 0.2em;position: relative;}#sk-container-id-1 div.sk-item {position: relative;z-index: 1;}#sk-container-id-1 div.sk-parallel {display: flex;align-items: stretch;justify-content: center;background-color: white;position: relative;}#sk-container-id-1 div.sk-item::before, #sk-container-id-1 div.sk-parallel-item::before {content: \"\";position: absolute;border-left: 1px solid gray;box-sizing: border-box;top: 0;bottom: 0;left: 50%;z-index: -1;}#sk-container-id-1 div.sk-parallel-item {display: flex;flex-direction: column;z-index: 1;position: relative;background-color: white;}#sk-container-id-1 div.sk-parallel-item:first-child::after {align-self: flex-end;width: 50%;}#sk-container-id-1 div.sk-parallel-item:last-child::after {align-self: flex-start;width: 50%;}#sk-container-id-1 div.sk-parallel-item:only-child::after {width: 0;}#sk-container-id-1 div.sk-dashed-wrapped {border: 1px dashed gray;margin: 0 0.4em 0.5em 0.4em;box-sizing: border-box;padding-bottom: 0.4em;background-color: white;}#sk-container-id-1 div.sk-label label {font-family: monospace;font-weight: bold;display: inline-block;line-height: 1.2em;}#sk-container-id-1 div.sk-label-container {text-align: center;}#sk-container-id-1 div.sk-container {/* jupyter's `normalize.less` sets `[hidden] { display: none; }` but bootstrap.min.css set `[hidden] { display: none !important; }` so we also need the `!important` here to be able to override the default hidden behavior on the sphinx rendered scikit-learn.org. See: https://github.com/scikit-learn/scikit-learn/issues/21755 */display: inline-block !important;position: relative;}#sk-container-id-1 div.sk-text-repr-fallback {display: none;}</style><div id=\"sk-container-id-1\" class=\"sk-top-container\"><div class=\"sk-text-repr-fallback\"><pre>ColumnTransformer(remainder=&#x27;passthrough&#x27;,\n",
       "                  transformers=[(&#x27;OrdinalEncoder&#x27;, OrdinalEncoder(),\n",
       "                                 [&#x27;STATE&#x27;, &#x27;SOIL_TYPE&#x27;]),\n",
       "                                (&#x27;StandardScaler&#x27;, StandardScaler(),\n",
       "                                 Index([&#x27;N_SOIL&#x27;, &#x27;P_SOIL&#x27;, &#x27;K_SOIL&#x27;, &#x27;TEMPERATURE&#x27;, &#x27;HUMIDITY&#x27;, &#x27;ph&#x27;,\n",
       "       &#x27;RAINFALL&#x27;],\n",
       "      dtype=&#x27;object&#x27;))])</pre><b>In a Jupyter environment, please rerun this cell to show the HTML representation or trust the notebook. <br />On GitHub, the HTML representation is unable to render, please try loading this page with nbviewer.org.</b></div><div class=\"sk-container\" hidden><div class=\"sk-item sk-dashed-wrapped\"><div class=\"sk-label-container\"><div class=\"sk-label sk-toggleable\"><input class=\"sk-toggleable__control sk-hidden--visually\" id=\"sk-estimator-id-1\" type=\"checkbox\" ><label for=\"sk-estimator-id-1\" class=\"sk-toggleable__label sk-toggleable__label-arrow\">ColumnTransformer</label><div class=\"sk-toggleable__content\"><pre>ColumnTransformer(remainder=&#x27;passthrough&#x27;,\n",
       "                  transformers=[(&#x27;OrdinalEncoder&#x27;, OrdinalEncoder(),\n",
       "                                 [&#x27;STATE&#x27;, &#x27;SOIL_TYPE&#x27;]),\n",
       "                                (&#x27;StandardScaler&#x27;, StandardScaler(),\n",
       "                                 Index([&#x27;N_SOIL&#x27;, &#x27;P_SOIL&#x27;, &#x27;K_SOIL&#x27;, &#x27;TEMPERATURE&#x27;, &#x27;HUMIDITY&#x27;, &#x27;ph&#x27;,\n",
       "       &#x27;RAINFALL&#x27;],\n",
       "      dtype=&#x27;object&#x27;))])</pre></div></div></div><div class=\"sk-parallel\"><div class=\"sk-parallel-item\"><div class=\"sk-item\"><div class=\"sk-label-container\"><div class=\"sk-label sk-toggleable\"><input class=\"sk-toggleable__control sk-hidden--visually\" id=\"sk-estimator-id-2\" type=\"checkbox\" ><label for=\"sk-estimator-id-2\" class=\"sk-toggleable__label sk-toggleable__label-arrow\">OrdinalEncoder</label><div class=\"sk-toggleable__content\"><pre>[&#x27;STATE&#x27;, &#x27;SOIL_TYPE&#x27;]</pre></div></div></div><div class=\"sk-serial\"><div class=\"sk-item\"><div class=\"sk-estimator sk-toggleable\"><input class=\"sk-toggleable__control sk-hidden--visually\" id=\"sk-estimator-id-3\" type=\"checkbox\" ><label for=\"sk-estimator-id-3\" class=\"sk-toggleable__label sk-toggleable__label-arrow\">OrdinalEncoder</label><div class=\"sk-toggleable__content\"><pre>OrdinalEncoder()</pre></div></div></div></div></div></div><div class=\"sk-parallel-item\"><div class=\"sk-item\"><div class=\"sk-label-container\"><div class=\"sk-label sk-toggleable\"><input class=\"sk-toggleable__control sk-hidden--visually\" id=\"sk-estimator-id-4\" type=\"checkbox\" ><label for=\"sk-estimator-id-4\" class=\"sk-toggleable__label sk-toggleable__label-arrow\">StandardScaler</label><div class=\"sk-toggleable__content\"><pre>Index([&#x27;N_SOIL&#x27;, &#x27;P_SOIL&#x27;, &#x27;K_SOIL&#x27;, &#x27;TEMPERATURE&#x27;, &#x27;HUMIDITY&#x27;, &#x27;ph&#x27;,\n",
       "       &#x27;RAINFALL&#x27;],\n",
       "      dtype=&#x27;object&#x27;)</pre></div></div></div><div class=\"sk-serial\"><div class=\"sk-item\"><div class=\"sk-estimator sk-toggleable\"><input class=\"sk-toggleable__control sk-hidden--visually\" id=\"sk-estimator-id-5\" type=\"checkbox\" ><label for=\"sk-estimator-id-5\" class=\"sk-toggleable__label sk-toggleable__label-arrow\">StandardScaler</label><div class=\"sk-toggleable__content\"><pre>StandardScaler()</pre></div></div></div></div></div></div><div class=\"sk-parallel-item\"><div class=\"sk-item\"><div class=\"sk-label-container\"><div class=\"sk-label sk-toggleable\"><input class=\"sk-toggleable__control sk-hidden--visually\" id=\"sk-estimator-id-6\" type=\"checkbox\" ><label for=\"sk-estimator-id-6\" class=\"sk-toggleable__label sk-toggleable__label-arrow\">remainder</label><div class=\"sk-toggleable__content\"><pre>[]</pre></div></div></div><div class=\"sk-serial\"><div class=\"sk-item\"><div class=\"sk-estimator sk-toggleable\"><input class=\"sk-toggleable__control sk-hidden--visually\" id=\"sk-estimator-id-7\" type=\"checkbox\" ><label for=\"sk-estimator-id-7\" class=\"sk-toggleable__label sk-toggleable__label-arrow\">passthrough</label><div class=\"sk-toggleable__content\"><pre>passthrough</pre></div></div></div></div></div></div></div></div></div></div>"
      ],
      "text/plain": [
       "ColumnTransformer(remainder='passthrough',\n",
       "                  transformers=[('OrdinalEncoder', OrdinalEncoder(),\n",
       "                                 ['STATE', 'SOIL_TYPE']),\n",
       "                                ('StandardScaler', StandardScaler(),\n",
       "                                 Index(['N_SOIL', 'P_SOIL', 'K_SOIL', 'TEMPERATURE', 'HUMIDITY', 'ph',\n",
       "       'RAINFALL'],\n",
       "      dtype='object'))])"
      ]
     },
     "execution_count": 21,
     "metadata": {},
     "output_type": "execute_result"
    }
   ],
   "source": [
    "preprocessor_Crop=preprocessor\n",
    "preprocessor_Crop"
   ]
  },
  {
   "cell_type": "code",
   "execution_count": 387,
   "metadata": {},
   "outputs": [],
   "source": [
    "import pickle\n",
    "pickle.dump(Crop_model,open('CropModel.pkl','wb'))\n",
    "pickle.dump(preprocessor_Crop,open('CropPreprocessor.pkl','wb'))"
   ]
  },
  {
   "cell_type": "code",
   "execution_count": 23,
   "metadata": {},
   "outputs": [],
   "source": [
    "import pickle\n",
    "pickle.dump(preprocessor_Crop,open('CropPreprocessor.pkl','wb'))"
   ]
  },
  {
   "cell_type": "code",
   "execution_count": 397,
   "metadata": {},
   "outputs": [
    {
     "name": "stdout",
     "output_type": "stream",
     "text": [
      "Predictions: [137]\n"
     ]
    }
   ],
   "source": [
    "import pandas as pd\n",
    "import numpy as np\n",
    "import pickle\n",
    "\n",
    "# Load preprocessor and model\n",
    "with open('CropPreprocessor.pkl', 'rb') as preprocessor_file:\n",
    "    preprocessor = pickle.load(preprocessor_file)\n",
    "\n",
    "with open('CropModel.pkl', 'rb') as file:\n",
    "    model = pickle.load(file)\n",
    "\n",
    "# Example feature values for a single sample\n",
    "input_data = np.array([['Gujarat', 'Sandy soil', 0, 101, 220, 430, 560, 6.5, 0]])  # Replace with actual values\n",
    "\n",
    "# Column names should match those used in your model\n",
    "column_names = ['STATE', 'SOIL_TYPE', 'N_SOIL', 'P_SOIL', 'K_SOIL', 'TEMPERATURE',\n",
    "                'HUMIDITY', 'ph', 'RAINFALL']\n",
    "\n",
    "# Create DataFrame with the input data\n",
    "input_data_df = pd.DataFrame(input_data, columns=column_names)\n",
    "\n",
    "# Transform the input data\n",
    "processed_data = preprocessor.transform(input_data_df)\n",
    "\n",
    "# Make predictions\n",
    "predictions = model.predict(processed_data)\n",
    "\n",
    "# Output the predictions\n",
    "print(\"Predictions:\", predictions)\n"
   ]
  },
  {
   "cell_type": "code",
   "execution_count": null,
   "metadata": {},
   "outputs": [],
   "source": []
  }
 ],
 "metadata": {
  "colab": {
   "provenance": []
  },
  "kernelspec": {
   "display_name": "Python 3 (ipykernel)",
   "language": "python",
   "name": "python3"
  },
  "language_info": {
   "codemirror_mode": {
    "name": "ipython",
    "version": 3
   },
   "file_extension": ".py",
   "mimetype": "text/x-python",
   "name": "python",
   "nbconvert_exporter": "python",
   "pygments_lexer": "ipython3",
   "version": "3.8.0"
  }
 },
 "nbformat": 4,
 "nbformat_minor": 4
}
